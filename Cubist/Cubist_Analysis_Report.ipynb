{
 "cells": [
  {
   "cell_type": "markdown",
   "metadata": {},
   "source": [
    "# Abstract\n",
    "\n",
    "- **Data Cleaning**: find out the outfitters for both `Signals` and `ClosePrice`, and use linear interpolate to correct.\n",
    "- **Signal Embedding**: this is time-series dataset, we can use embeeding method to build more reliable new features. Note that `Signal` cannot be used for corresponding `ClosePrice` prediction, need to do extra shift.\n",
    "- **Feature Importance**: look into the correlation between embedding signals and `ClosePrice`. "
   ]
  },
  {
   "cell_type": "code",
   "execution_count": 1,
   "metadata": {
    "collapsed": true
   },
   "outputs": [],
   "source": [
    "from matplotlib import pyplot as plt\n",
    "import numpy as np\n",
    "import pandas as pd\n",
    "import warnings\n",
    "warnings.filterwarnings('ignore')\n",
    "\n",
    "%matplotlib inline"
   ]
  },
  {
   "cell_type": "code",
   "execution_count": 2,
   "metadata": {
    "collapsed": true
   },
   "outputs": [],
   "source": [
    "data = pd.read_excel(\"ResearchDatasetV2.0.xlsx\")"
   ]
  },
  {
   "cell_type": "code",
   "execution_count": 3,
   "metadata": {},
   "outputs": [
    {
     "data": {
      "text/html": [
       "<div>\n",
       "<style scoped>\n",
       "    .dataframe tbody tr th:only-of-type {\n",
       "        vertical-align: middle;\n",
       "    }\n",
       "\n",
       "    .dataframe tbody tr th {\n",
       "        vertical-align: top;\n",
       "    }\n",
       "\n",
       "    .dataframe thead th {\n",
       "        text-align: right;\n",
       "    }\n",
       "</style>\n",
       "<table border=\"1\" class=\"dataframe\">\n",
       "  <thead>\n",
       "    <tr style=\"text-align: right;\">\n",
       "      <th></th>\n",
       "      <th>Date</th>\n",
       "      <th>Signal</th>\n",
       "      <th>ClosePrice</th>\n",
       "    </tr>\n",
       "  </thead>\n",
       "  <tbody>\n",
       "    <tr>\n",
       "      <th>0</th>\n",
       "      <td>20120103</td>\n",
       "      <td>3.107767</td>\n",
       "      <td>127.495</td>\n",
       "    </tr>\n",
       "    <tr>\n",
       "      <th>1</th>\n",
       "      <td>20120104</td>\n",
       "      <td>3.107282</td>\n",
       "      <td>127.700</td>\n",
       "    </tr>\n",
       "    <tr>\n",
       "      <th>2</th>\n",
       "      <td>20120105</td>\n",
       "      <td>3.099757</td>\n",
       "      <td>128.040</td>\n",
       "    </tr>\n",
       "    <tr>\n",
       "      <th>3</th>\n",
       "      <td>20120106</td>\n",
       "      <td>3.134223</td>\n",
       "      <td>127.710</td>\n",
       "    </tr>\n",
       "    <tr>\n",
       "      <th>4</th>\n",
       "      <td>20120109</td>\n",
       "      <td>3.135922</td>\n",
       "      <td>128.020</td>\n",
       "    </tr>\n",
       "  </tbody>\n",
       "</table>\n",
       "</div>"
      ],
      "text/plain": [
       "       Date    Signal  ClosePrice\n",
       "0  20120103  3.107767     127.495\n",
       "1  20120104  3.107282     127.700\n",
       "2  20120105  3.099757     128.040\n",
       "3  20120106  3.134223     127.710\n",
       "4  20120109  3.135922     128.020"
      ]
     },
     "execution_count": 3,
     "metadata": {},
     "output_type": "execute_result"
    }
   ],
   "source": [
    "data.head()"
   ]
  },
  {
   "cell_type": "markdown",
   "metadata": {},
   "source": [
    "## Data Cleaning"
   ]
  },
  {
   "cell_type": "code",
   "execution_count": 4,
   "metadata": {},
   "outputs": [
    {
     "data": {
      "text/html": [
       "<div>\n",
       "<style scoped>\n",
       "    .dataframe tbody tr th:only-of-type {\n",
       "        vertical-align: middle;\n",
       "    }\n",
       "\n",
       "    .dataframe tbody tr th {\n",
       "        vertical-align: top;\n",
       "    }\n",
       "\n",
       "    .dataframe thead th {\n",
       "        text-align: right;\n",
       "    }\n",
       "</style>\n",
       "<table border=\"1\" class=\"dataframe\">\n",
       "  <thead>\n",
       "    <tr style=\"text-align: right;\">\n",
       "      <th></th>\n",
       "      <th>Date</th>\n",
       "      <th>Signal</th>\n",
       "      <th>ClosePrice</th>\n",
       "    </tr>\n",
       "  </thead>\n",
       "  <tbody>\n",
       "    <tr>\n",
       "      <th>303</th>\n",
       "      <td>20130326</td>\n",
       "      <td>-3.802670</td>\n",
       "      <td>156.1900</td>\n",
       "    </tr>\n",
       "    <tr>\n",
       "      <th>421</th>\n",
       "      <td>20130912</td>\n",
       "      <td>4.193204</td>\n",
       "      <td>618.9500</td>\n",
       "    </tr>\n",
       "    <tr>\n",
       "      <th>422</th>\n",
       "      <td>20130913</td>\n",
       "      <td>4.143689</td>\n",
       "      <td>619.3300</td>\n",
       "    </tr>\n",
       "    <tr>\n",
       "      <th>423</th>\n",
       "      <td>20130916</td>\n",
       "      <td>4.124515</td>\n",
       "      <td>710.3100</td>\n",
       "    </tr>\n",
       "    <tr>\n",
       "      <th>459</th>\n",
       "      <td>20131105</td>\n",
       "      <td>429.514563</td>\n",
       "      <td>176.2700</td>\n",
       "    </tr>\n",
       "    <tr>\n",
       "      <th>460</th>\n",
       "      <td>20131106</td>\n",
       "      <td>432.961165</td>\n",
       "      <td>177.1700</td>\n",
       "    </tr>\n",
       "    <tr>\n",
       "      <th>570</th>\n",
       "      <td>20140414</td>\n",
       "      <td>0.004560</td>\n",
       "      <td>182.9401</td>\n",
       "    </tr>\n",
       "    <tr>\n",
       "      <th>571</th>\n",
       "      <td>20140415</td>\n",
       "      <td>0.454976</td>\n",
       "      <td>184.2000</td>\n",
       "    </tr>\n",
       "    <tr>\n",
       "      <th>572</th>\n",
       "      <td>20140416</td>\n",
       "      <td>0.455898</td>\n",
       "      <td>186.1250</td>\n",
       "    </tr>\n",
       "  </tbody>\n",
       "</table>\n",
       "</div>"
      ],
      "text/plain": [
       "         Date      Signal  ClosePrice\n",
       "303  20130326   -3.802670    156.1900\n",
       "421  20130912    4.193204    618.9500\n",
       "422  20130913    4.143689    619.3300\n",
       "423  20130916    4.124515    710.3100\n",
       "459  20131105  429.514563    176.2700\n",
       "460  20131106  432.961165    177.1700\n",
       "570  20140414    0.004560    182.9401\n",
       "571  20140415    0.454976    184.2000\n",
       "572  20140416    0.455898    186.1250"
      ]
     },
     "execution_count": 4,
     "metadata": {},
     "output_type": "execute_result"
    },
    {
     "data": {
      "image/png": "[encoded data removed]",
      "text/plain": [
       "<matplotlib.figure.Figure at 0x1d04b231be0>"
      ]
     },
     "metadata": {},
     "output_type": "display_data"
    }
   ],
   "source": [
    "# Simple Visualization & Error Detection\n",
    "\n",
    "plt.subplot(2, 1, 1)\n",
    "plt.plot(data[\"ClosePrice\"])\n",
    "plt.ylabel(\"ClosePrice\")\n",
    "\n",
    "plt.subplot(2, 1, 2)\n",
    "plt.plot(data[\"Signal\"])\n",
    "plt.ylabel(\"Signal\")\n",
    "\n",
    "plt.xlabel(\"Date\")\n",
    "\n",
    "price_error_index = data[data[\"ClosePrice\"] > 300].index\n",
    "signal_error_index = data[~data[\"Signal\"].between(2, 10)].index\n",
    "data.loc[price_error_index.union(signal_error_index)]"
   ]
  },
  {
   "cell_type": "code",
   "execution_count": 5,
   "metadata": {},
   "outputs": [
    {
     "data": {
      "text/plain": [
       "Text(0.5,0,'Date')"
      ]
     },
     "execution_count": 5,
     "metadata": {},
     "output_type": "execute_result"
    },
    {
     "data": {
      "image/png": "[encoded data removed]",
      "text/plain": [
       "<matplotlib.figure.Figure at 0x1d04b231668>"
      ]
     },
     "metadata": {},
     "output_type": "display_data"
    }
   ],
   "source": [
    "# Data Cleaning\n",
    "# Use Linear interpolate method to correct error points\n",
    "\n",
    "data.loc[price_error_index, \"ClosePrice\"] = np.nan\n",
    "data[\"ClosePrice\"] = data[\"ClosePrice\"].interpolate()\n",
    "\n",
    "data.loc[signal_error_index, \"Signal\"] = np.nan\n",
    "data[\"Signal\"] = data[\"Signal\"].interpolate()\n",
    "\n",
    "# Check Cleaned Data\n",
    "plt.subplot(2, 1, 1)\n",
    "plt.plot(data[\"ClosePrice\"])\n",
    "plt.ylabel(\"ClosePrice\")\n",
    "\n",
    "plt.subplot(2, 1, 2)\n",
    "plt.plot(data[\"Signal\"])\n",
    "plt.ylabel(\"Signal\")\n",
    "\n",
    "plt.xlabel(\"Date\")"
   ]
  },
  {
   "cell_type": "markdown",
   "metadata": {},
   "source": [
    "## Embedding Signal & Importance\n",
    "\n",
    "Because the “signal” in the table is received at the end of the day, we will make embedding singals for (1, 3, 5, 10) days to check the predictive power."
   ]
  },
  {
   "cell_type": "code",
   "execution_count": 6,
   "metadata": {},
   "outputs": [
    {
     "data": {
      "text/plain": [
       "Text(0.5,0,'Signal_10')"
      ]
     },
     "execution_count": 6,
     "metadata": {},
     "output_type": "execute_result"
    },
    {
     "data": {
      "image/png": "[encoded data removed]",
      "text/plain": [
       "<matplotlib.figure.Figure at 0x1d04b741080>"
      ]
     },
     "metadata": {},
     "output_type": "display_data"
    }
   ],
   "source": [
    "# Embedding Signal\n",
    "\n",
    "data[\"Signal_1\"] = data[\"Signal\"].shift(1)\n",
    "data[\"Signal_3\"] = data[\"Signal_1\"].rolling(window=3).mean()\n",
    "data[\"Signal_5\"] = data[\"Signal_1\"].rolling(window=5).mean()\n",
    "data[\"Signal_10\"] = data[\"Signal_1\"].rolling(window=10).mean()\n",
    "\n",
    "# Drop first 10 row for consistency\n",
    "data = data.iloc[10:]\n",
    "\n",
    "# Scatter plot for each embedding signal\n",
    "plt.figure(figsize=(15,3))\n",
    "\n",
    "plt.subplot(1,4,1)\n",
    "plt.scatter(data[\"Signal_1\"], data[\"ClosePrice\"])\n",
    "plt.xlabel(\"Signal_1\")\n",
    "plt.ylabel(\"ClosePrice\")\n",
    "\n",
    "plt.subplot(1,4,2)\n",
    "plt.scatter(data[\"Signal_3\"], data[\"ClosePrice\"])\n",
    "plt.xlabel(\"Signal_3\")\n",
    "\n",
    "plt.subplot(1,4,3)\n",
    "plt.scatter(data[\"Signal_5\"], data[\"ClosePrice\"])\n",
    "plt.xlabel(\"Signal_5\")\n",
    "\n",
    "plt.subplot(1,4,4)\n",
    "plt.scatter(data[\"Signal_10\"], data[\"ClosePrice\"])\n",
    "plt.xlabel(\"Signal_10\")"
   ]
  },
  {
   "cell_type": "markdown",
   "metadata": {},
   "source": [
    "According to the scatter plots, we can roughly see that \"Signal_5\" and \"Signal_10\" have stronger relationship with \"ClosePrice\" than \"Signal_1\" and \"Signal_3\". Now let's look into the correlation coefficient for each embedding signal."
   ]
  },
  {
   "cell_type": "code",
   "execution_count": 7,
   "metadata": {},
   "outputs": [
    {
     "data": {
      "text/html": [
       "<div>\n",
       "<style scoped>\n",
       "    .dataframe tbody tr th:only-of-type {\n",
       "        vertical-align: middle;\n",
       "    }\n",
       "\n",
       "    .dataframe tbody tr th {\n",
       "        vertical-align: top;\n",
       "    }\n",
       "\n",
       "    .dataframe thead th {\n",
       "        text-align: right;\n",
       "    }\n",
       "</style>\n",
       "<table border=\"1\" class=\"dataframe\">\n",
       "  <thead>\n",
       "    <tr style=\"text-align: right;\">\n",
       "      <th></th>\n",
       "      <th>ClosePrice</th>\n",
       "    </tr>\n",
       "  </thead>\n",
       "  <tbody>\n",
       "    <tr>\n",
       "      <th>Signal_1</th>\n",
       "      <td>0.996018</td>\n",
       "    </tr>\n",
       "    <tr>\n",
       "      <th>Signal_3</th>\n",
       "      <td>0.997707</td>\n",
       "    </tr>\n",
       "    <tr>\n",
       "      <th>Signal_5</th>\n",
       "      <td>0.998454</td>\n",
       "    </tr>\n",
       "    <tr>\n",
       "      <th>Signal_10</th>\n",
       "      <td>0.998007</td>\n",
       "    </tr>\n",
       "  </tbody>\n",
       "</table>\n",
       "</div>"
      ],
      "text/plain": [
       "           ClosePrice\n",
       "Signal_1     0.996018\n",
       "Signal_3     0.997707\n",
       "Signal_5     0.998454\n",
       "Signal_10    0.998007"
      ]
     },
     "execution_count": 7,
     "metadata": {},
     "output_type": "execute_result"
    }
   ],
   "source": [
    "data.corr()[[\"ClosePrice\"]].loc[[\"Signal_1\", \"Signal_3\", \"Signal_5\", \"Signal_10\"]]"
   ]
  },
  {
   "cell_type": "markdown",
   "metadata": {},
   "source": [
    "\"Signal_5\" has the strongest correlationship with \"ClosePrice\""
   ]
  },
  {
   "cell_type": "markdown",
   "metadata": {
    "collapsed": true
   },
   "source": [
    "# Summary\n",
    "\n",
    "- **Viability**: According to the correlation plot and the correaltion coefficient, we can tell the `Signal` has very strong positive correlation with `ClosePrice` thus great predictive power. However, we need to do more feature engineering work to gain better predictive result, for example, can use time-series weighting average to do embedding, can try more embedding window size to find the best.\n",
    "\n",
    "- **Shortcomings**: Intuitively, the `signal` is a combination of multiple features `[f1, f2, ..., fn]`. Although the `signal` has very ideal predictive power and the analysis turns out we can easily build a linear model to predict the `ClosePrice`, this might be a problem if we want to make a probabilistic prediction instead of point estimation. Since when doing portfolio investment, we can use probabilities to manage ratio and hedging. The orinal multiple features [f1, f2, ..., fn] probably hold mnore information while combination will lose it. Meanwhile, using too much embedding signals by same signal could lead to `multicollinearity` problem.\n",
    "\n",
    "- **TODO**: We can use XGBoost package to gather more information about the signal predictive power. Can use cross validation to build a model to test.\n",
    "\n",
    "- **Recommendation**: As I state in the `Shortcomings`, building portfolio need probabilistic prediction instead of point estimation. So it probably a great idea to build a stochastic porcess model, we can look into the distribution of `ClosePrice_Change`. If there is enough datasize, we can also adopt RNN framework to do prediction."
   ]
  },
  {
   "cell_type": "code",
   "execution_count": null,
   "metadata": {
    "collapsed": true
   },
   "outputs": [],
   "source": []
  }
 ],
 "metadata": {
  "kernelspec": {
   "display_name": "Python 3",
   "language": "python",
   "name": "python3"
  },
  "language_info": {
   "codemirror_mode": {
    "name": "ipython",
    "version": 3
   },
   "file_extension": ".py",
   "mimetype": "text/x-python",
   "name": "python",
   "nbconvert_exporter": "python",
   "pygments_lexer": "ipython3",
   "version": "3.6.3"
  }
 },
 "nbformat": 4,
 "nbformat_minor": 2
}
