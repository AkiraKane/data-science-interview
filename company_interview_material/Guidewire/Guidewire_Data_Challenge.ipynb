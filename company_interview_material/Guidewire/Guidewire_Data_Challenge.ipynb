{
 "cells": [
  {
   "cell_type": "markdown",
   "metadata": {},
   "source": [
    "# Preparation"
   ]
  },
  {
   "cell_type": "code",
   "execution_count": 1,
   "metadata": {},
   "outputs": [],
   "source": [
    "import warnings\n",
    "\n",
    "import matplotlib.pyplot as plt\n",
    "import numpy as np\n",
    "import pandas as pd\n",
    "\n",
    "%matplotlib inline\n",
    "warnings.filterwarnings(\"ignore\")"
   ]
  },
  {
   "cell_type": "code",
   "execution_count": 2,
   "metadata": {},
   "outputs": [],
   "source": [
    "raw_data = pd.read_csv('data_perm_take_home.csv', encoding = \"ISO-8859-1\", engine='python')"
   ]
  },
  {
   "cell_type": "code",
   "execution_count": 3,
   "metadata": {},
   "outputs": [
    {
     "name": "stdout",
     "output_type": "stream",
     "text": [
      "<class 'pandas.core.frame.DataFrame'>\n",
      "RangeIndex: 61613 entries, 0 to 61612\n",
      "Data columns (total 15 columns):\n",
      " #   Column                     Non-Null Count  Dtype  \n",
      "---  ------                     --------------  -----  \n",
      " 0   case_number                61613 non-null  object \n",
      " 1   case_received_date         61611 non-null  object \n",
      " 2   decision_date              61613 non-null  object \n",
      " 3   case_status                61613 non-null  object \n",
      " 4   employer_name              61611 non-null  object \n",
      " 5   employer_num_employees     61593 non-null  float64\n",
      " 6   employer_yr_established    61577 non-null  float64\n",
      " 7   job_education              61609 non-null  object \n",
      " 8   job_experience_num_months  33996 non-null  float64\n",
      " 9   job_state                  61602 non-null  object \n",
      " 10  job_foreign_lang_req       61611 non-null  object \n",
      " 11  job_level                  57066 non-null  float64\n",
      " 12  employee_citizenship       61604 non-null  object \n",
      " 13  wage_offer                 61598 non-null  float64\n",
      " 14  wage_unit                  60951 non-null  object \n",
      "dtypes: float64(5), object(10)\n",
      "memory usage: 7.1+ MB\n"
     ]
    }
   ],
   "source": [
    "raw_data.info()"
   ]
  },
  {
   "cell_type": "code",
   "execution_count": 4,
   "metadata": {},
   "outputs": [
    {
     "data": {
      "text/html": [
       "<div>\n",
       "<style scoped>\n",
       "    .dataframe tbody tr th:only-of-type {\n",
       "        vertical-align: middle;\n",
       "    }\n",
       "\n",
       "    .dataframe tbody tr th {\n",
       "        vertical-align: top;\n",
       "    }\n",
       "\n",
       "    .dataframe thead th {\n",
       "        text-align: right;\n",
       "    }\n",
       "</style>\n",
       "<table border=\"1\" class=\"dataframe\">\n",
       "  <thead>\n",
       "    <tr style=\"text-align: right;\">\n",
       "      <th></th>\n",
       "      <th>case_number</th>\n",
       "      <th>case_received_date</th>\n",
       "      <th>decision_date</th>\n",
       "      <th>case_status</th>\n",
       "      <th>employer_name</th>\n",
       "      <th>employer_num_employees</th>\n",
       "      <th>employer_yr_established</th>\n",
       "      <th>job_education</th>\n",
       "      <th>job_experience_num_months</th>\n",
       "      <th>job_state</th>\n",
       "      <th>job_foreign_lang_req</th>\n",
       "      <th>job_level</th>\n",
       "      <th>employee_citizenship</th>\n",
       "      <th>wage_offer</th>\n",
       "      <th>wage_unit</th>\n",
       "    </tr>\n",
       "  </thead>\n",
       "  <tbody>\n",
       "    <tr>\n",
       "      <th>0</th>\n",
       "      <td>A-06191-36805</td>\n",
       "      <td>12/22/14</td>\n",
       "      <td>6/19/15</td>\n",
       "      <td>Certified</td>\n",
       "      <td>BRENTWOOD BIOMEDICAL RESEARCH INSTITUTE</td>\n",
       "      <td>149.0</td>\n",
       "      <td>1988.0</td>\n",
       "      <td>Bachelor's</td>\n",
       "      <td>NaN</td>\n",
       "      <td>CALIFORNIA</td>\n",
       "      <td>N</td>\n",
       "      <td>1.0</td>\n",
       "      <td>RUSSIA</td>\n",
       "      <td>30285.0</td>\n",
       "      <td>Year</td>\n",
       "    </tr>\n",
       "    <tr>\n",
       "      <th>1</th>\n",
       "      <td>A-07194-56311</td>\n",
       "      <td>12/19/14</td>\n",
       "      <td>6/19/15</td>\n",
       "      <td>Denied</td>\n",
       "      <td>WASHINGTON STATE UNIVERSITY</td>\n",
       "      <td>5600.0</td>\n",
       "      <td>1890.0</td>\n",
       "      <td>Doctorate</td>\n",
       "      <td>NaN</td>\n",
       "      <td>WASHINGTON</td>\n",
       "      <td>N</td>\n",
       "      <td>2.0</td>\n",
       "      <td>RUSSIA</td>\n",
       "      <td>150000.0</td>\n",
       "      <td>Year</td>\n",
       "    </tr>\n",
       "    <tr>\n",
       "      <th>2</th>\n",
       "      <td>A-07194-56513</td>\n",
       "      <td>12/17/14</td>\n",
       "      <td>6/19/15</td>\n",
       "      <td>Certified</td>\n",
       "      <td>WASHINGTON STATE UNIVERSITY</td>\n",
       "      <td>5600.0</td>\n",
       "      <td>1890.0</td>\n",
       "      <td>Doctorate</td>\n",
       "      <td>NaN</td>\n",
       "      <td>WASHINGTON</td>\n",
       "      <td>N</td>\n",
       "      <td>2.0</td>\n",
       "      <td>INDIA</td>\n",
       "      <td>125000.0</td>\n",
       "      <td>Year</td>\n",
       "    </tr>\n",
       "    <tr>\n",
       "      <th>3</th>\n",
       "      <td>A-07194-56514</td>\n",
       "      <td>10/9/14</td>\n",
       "      <td>3/3/15</td>\n",
       "      <td>Certified</td>\n",
       "      <td>WASHINGTON STATE UNIVERSITY</td>\n",
       "      <td>5600.0</td>\n",
       "      <td>1890.0</td>\n",
       "      <td>Doctorate</td>\n",
       "      <td>84.0</td>\n",
       "      <td>WASHINGTON</td>\n",
       "      <td>N</td>\n",
       "      <td>3.0</td>\n",
       "      <td>CANADA</td>\n",
       "      <td>105300.0</td>\n",
       "      <td>Year</td>\n",
       "    </tr>\n",
       "    <tr>\n",
       "      <th>4</th>\n",
       "      <td>A-07197-57029</td>\n",
       "      <td>10/6/14</td>\n",
       "      <td>3/3/15</td>\n",
       "      <td>Certified</td>\n",
       "      <td>WASHINGTON STATE UNIVERSITY</td>\n",
       "      <td>5600.0</td>\n",
       "      <td>1890.0</td>\n",
       "      <td>Doctorate</td>\n",
       "      <td>NaN</td>\n",
       "      <td>WASHINGTON</td>\n",
       "      <td>N</td>\n",
       "      <td>1.0</td>\n",
       "      <td>ARGENTINA</td>\n",
       "      <td>114285.0</td>\n",
       "      <td>Year</td>\n",
       "    </tr>\n",
       "  </tbody>\n",
       "</table>\n",
       "</div>"
      ],
      "text/plain": [
       "     case_number case_received_date decision_date case_status  \\\n",
       "0  A-06191-36805           12/22/14       6/19/15   Certified   \n",
       "1  A-07194-56311           12/19/14       6/19/15      Denied   \n",
       "2  A-07194-56513           12/17/14       6/19/15   Certified   \n",
       "3  A-07194-56514            10/9/14        3/3/15   Certified   \n",
       "4  A-07197-57029            10/6/14        3/3/15   Certified   \n",
       "\n",
       "                             employer_name  employer_num_employees  \\\n",
       "0  BRENTWOOD BIOMEDICAL RESEARCH INSTITUTE                   149.0   \n",
       "1              WASHINGTON STATE UNIVERSITY                  5600.0   \n",
       "2              WASHINGTON STATE UNIVERSITY                  5600.0   \n",
       "3              WASHINGTON STATE UNIVERSITY                  5600.0   \n",
       "4              WASHINGTON STATE UNIVERSITY                  5600.0   \n",
       "\n",
       "   employer_yr_established job_education  job_experience_num_months  \\\n",
       "0                   1988.0    Bachelor's                        NaN   \n",
       "1                   1890.0     Doctorate                        NaN   \n",
       "2                   1890.0     Doctorate                        NaN   \n",
       "3                   1890.0     Doctorate                       84.0   \n",
       "4                   1890.0     Doctorate                        NaN   \n",
       "\n",
       "    job_state job_foreign_lang_req  job_level employee_citizenship  \\\n",
       "0  CALIFORNIA                    N        1.0               RUSSIA   \n",
       "1  WASHINGTON                    N        2.0               RUSSIA   \n",
       "2  WASHINGTON                    N        2.0                INDIA   \n",
       "3  WASHINGTON                    N        3.0               CANADA   \n",
       "4  WASHINGTON                    N        1.0            ARGENTINA   \n",
       "\n",
       "   wage_offer wage_unit  \n",
       "0     30285.0      Year  \n",
       "1    150000.0      Year  \n",
       "2    125000.0      Year  \n",
       "3    105300.0      Year  \n",
       "4    114285.0      Year  "
      ]
     },
     "execution_count": 4,
     "metadata": {},
     "output_type": "execute_result"
    }
   ],
   "source": [
    "raw_data.head()"
   ]
  },
  {
   "cell_type": "markdown",
   "metadata": {},
   "source": [
    "# Part 1\n",
    "1. Which employer has the most entries in the dataset?\n",
    "2. Which employer has the most “Certified-Expired” cases?\n",
    "3. How many unique employers contain the character string \"APPLE\" that is not \"APPLE INC.\"?\n",
    "4. Write a function that plots a histogram with 50 bins of the duration between from case_received_date to decision_date for any given employeer_name. Use the function to plot for \"APPLE INC.\" and \"GOOGLE INC.\"\n",
    "\n",
    "\n",
    "## ANSWER\n",
    "\n",
    "1. COGNIZANT TECHNOLOGY SOLUTIONS US CORPORATION, having 5441 cases.\n",
    "2. MICROSOFT CORPORATION, having 521 'Certified-Expired' cases.\n",
    "3. 6.\n",
    "4. Check the answer below.\n",
    "\n",
    "\n",
    "**Please check all code work below**"
   ]
  },
  {
   "cell_type": "code",
   "execution_count": 5,
   "metadata": {},
   "outputs": [
    {
     "name": "stdout",
     "output_type": "stream",
     "text": [
      "(61613,)\n"
     ]
    },
    {
     "data": {
      "text/plain": [
       "employer_name\n",
       "COGNIZANT TECHNOLOGY SOLUTIONS US CORPORATION    5441\n",
       "INTEL CORPORATION                                1611\n",
       "CISCO SYSTEMS, INC.                              1028\n",
       "GOOGLE INC.                                       914\n",
       "QUALCOMM TECHNOLOGIES INC.                        862\n",
       "Name: case_number, dtype: int64"
      ]
     },
     "execution_count": 5,
     "metadata": {},
     "output_type": "execute_result"
    }
   ],
   "source": [
    "# 1\n",
    "\n",
    "# Check primary key\n",
    "print(raw_data['case_number'].unique().shape)\n",
    "\n",
    "# Find most entries employer\n",
    "raw_data.groupby('employer_name')['case_number'].count().sort_values(ascending=False).head()"
   ]
  },
  {
   "cell_type": "code",
   "execution_count": 6,
   "metadata": {},
   "outputs": [
    {
     "data": {
      "text/plain": [
       "employer_name\n",
       "MICROSOFT CORPORATION         521\n",
       "CISCO SYSTEMS, INC.           398\n",
       "QUALCOMM TECHNOLOGIES INC.    269\n",
       "GOOGLE INC.                   253\n",
       "AMAZON CORPORATE LLC          231\n",
       "Name: case_number, dtype: int64"
      ]
     },
     "execution_count": 6,
     "metadata": {},
     "output_type": "execute_result"
    }
   ],
   "source": [
    "# 2\n",
    "\n",
    "# 'Certified-Expired' is one value in column 'case_status'\n",
    "raw_data[raw_data['case_status'] == 'Certified-Expired'].groupby('employer_name')['case_number'].count().sort_values(ascending=False).head()"
   ]
  },
  {
   "cell_type": "code",
   "execution_count": 7,
   "metadata": {},
   "outputs": [
    {
     "data": {
      "text/plain": [
       "array(['APPLE INC.', 'APPLETREE EARLY LEARNING PUBLIC CHARTER SCHOOLS',\n",
       "       'APPLEXUS TECHNOLOGIES LLC', 'APPLETON GRP LLC',\n",
       "       'APPLE EDUCATIONAL SERVICES', 'BIG APPLE EDUCATION CENTER INC.',\n",
       "       'APPLE FEDERAL CREDIT UNION'], dtype=object)"
      ]
     },
     "execution_count": 7,
     "metadata": {},
     "output_type": "execute_result"
    }
   ],
   "source": [
    "# 3\n",
    "\n",
    "# Get all employers with name containing 'APPLE'\n",
    "raw_data[raw_data['employer_name'].str.contains(\"APPLE\", na=False)]['employer_name'].unique()\n",
    "\n",
    "# Totally 7 employers, minus 'APPLE INC.', then get 6."
   ]
  },
  {
   "cell_type": "code",
   "execution_count": 8,
   "metadata": {},
   "outputs": [],
   "source": [
    "# 4\n",
    "\n",
    "def get_hist(df, employer_name):\n",
    "    df = df[df['employer_name'] == employer_name]\n",
    "    case_received_date = pd.to_datetime(df['case_received_date'])\n",
    "    decision_date = pd.to_datetime(df['decision_date'])\n",
    "    duration = pd.to_datetime(df['decision_date']) - pd.to_datetime(df['case_received_date'])\n",
    "    duration = pd.DataFrame(duration.apply(lambda x: x.days), columns=[employer_name])\n",
    "    hist = duration.hist(bins=50)\n",
    "    return hist"
   ]
  },
  {
   "cell_type": "code",
   "execution_count": 9,
   "metadata": {},
   "outputs": [
    {
     "data": {
      "text/plain": [
       "array([[<matplotlib.axes._subplots.AxesSubplot object at 0x0000019E79C77940>]],\n",
       "      dtype=object)"
      ]
     },
     "execution_count": 9,
     "metadata": {},
     "output_type": "execute_result"
    },
    {
     "data": {
      "image/png": "[encoded data removed]",
      "text/plain": [
       "<Figure size 432x288 with 1 Axes>"
      ]
     },
     "metadata": {
      "needs_background": "light"
     },
     "output_type": "display_data"
    }
   ],
   "source": [
    "get_hist(raw_data, 'APPLE INC.')"
   ]
  },
  {
   "cell_type": "code",
   "execution_count": 10,
   "metadata": {},
   "outputs": [
    {
     "data": {
      "text/plain": [
       "array([[<matplotlib.axes._subplots.AxesSubplot object at 0x0000019E78CDEFD0>]],\n",
       "      dtype=object)"
      ]
     },
     "execution_count": 10,
     "metadata": {},
     "output_type": "execute_result"
    },
    {
     "data": {
      "image/png": "[encoded data removed]",
      "text/plain": [
       "<Figure size 432x288 with 1 Axes>"
      ]
     },
     "metadata": {
      "needs_background": "light"
     },
     "output_type": "display_data"
    }
   ],
   "source": [
    "get_hist(raw_data, 'GOOGLE INC.')"
   ]
  },
  {
   "cell_type": "markdown",
   "metadata": {},
   "source": [
    "# Part 2\n",
    "For certified cases (case_status = “Certified”), build a model that predicts wage_offered by using 5 features**\n",
    "with the most predictive power. Some considerations:\n",
    "- How does the response variable look? How do the predictors look?\n",
    "- How might missing values be handled?\n",
    "- What transformations are relevant?\n",
    "- Are there any outliers?\n",
    "- What additional features could be engineered?\n",
    "- What features are most predictive of wage_offered?\n",
    "- Which model is picked? What advantages does the model offer against an alternative?\n",
    "- What do the errors/residuals and their distributions tell us?\n",
    "- How well do you think this model will extrapolate"
   ]
  },
  {
   "cell_type": "markdown",
   "metadata": {},
   "source": [
    "## Summary\n",
    "\n",
    "- The response variable is numerical, the predictors are in (date, categorical, numerical) types.\n",
    "- For response variable (referred as target below), the missing values are simply dropped since the number is not large. For predictors (referred as Features below), the missing values are handled differently. `job_experience_num_months` has too many missing so just drop this column for convenience. Other columns use corresponding median to impute.\n",
    "- The target `wage_offer` would be different given by different `wage_unit`. Thus we need a uniform transformation here. Assuming Year = 12 Months = 50 Weeks = 2000 Hours, change all `wage_offer` into Year format.\n",
    "- There're defenite outliers for each columns. However for convenience, I would skip the outliers detection step. (The dataset is pretty large, the outliers effects will be decreased.)\n",
    "- For Feature Engineering, please check more explaination in Feature Engineering subtitle.\n",
    "- To determine the most predictive feature, we need to run the model with all features to get the `feature importance`. According below work, the most predictive feature is `employer_mean_wage`.\n",
    "- The model I picked is Random Forest. \n",
    "    - It's easy to explain and implemented.\n",
    "    - Not likely to overfit.\n",
    "    - Robust to categorical features.\n",
    "- According to the histogram plot below, most of the points are well fitted, the bias was mainly caused by outliers.\n",
    "- No, the mean wage is 95,000 per year which is much more than US mean, the dataset distribution is totally different with US population.\n",
    "- Improvement:\n",
    "    - Process Outlier\n",
    "    - More detailed feature engineering work\n",
    "    - Prevent data leakage issue\n",
    "    - Hyper-parameter tuning\n",
    "    - Try more complex algorithm\n"
   ]
  },
  {
   "cell_type": "markdown",
   "metadata": {},
   "source": [
    "## Data Cleaning"
   ]
  },
  {
   "cell_type": "code",
   "execution_count": 11,
   "metadata": {},
   "outputs": [
    {
     "name": "stdout",
     "output_type": "stream",
     "text": [
      "data shape: (37930, 14)\n"
     ]
    }
   ],
   "source": [
    "data = raw_data[raw_data['case_status'] == 'Certified']\n",
    "data.set_index('case_number', inplace=True)\n",
    "print('data shape:', data.shape)"
   ]
  },
  {
   "cell_type": "code",
   "execution_count": 12,
   "metadata": {},
   "outputs": [
    {
     "name": "stdout",
     "output_type": "stream",
     "text": [
      "Wage Unit Type:  ['Year' 'Hour' nan 'Month' 'Week']\n",
      "data shape: (37565, 13)\n",
      "wage_offer mean: 95201.17822787169\n"
     ]
    }
   ],
   "source": [
    "# Clean response variable\n",
    "\n",
    "# Find there're different wage units\n",
    "print('Wage Unit Type: ', data['wage_unit'].unique())\n",
    "\n",
    "# Drop nan value\n",
    "data.dropna(subset=['wage_offer', 'wage_unit'], inplace=True)\n",
    "\n",
    "# Uniform all wage_unit to Year\n",
    "# Assuming Year = 12 Months = 50 Weeks = 2000 Hours\n",
    "unit_dict = {'Year': 1, 'Month': 12, 'Week': 50, 'Hour': 2000}\n",
    "unit_number = data['wage_unit'].apply(lambda x: unit_dict[x])\n",
    "data['wage_offer'] = data['wage_offer'] * unit_number\n",
    "data.drop(columns=['wage_unit'], inplace=True)\n",
    "\n",
    "print('data shape:', data.shape)\n",
    "print('wage_offer mean:',data['wage_offer'].mean())"
   ]
  },
  {
   "cell_type": "code",
   "execution_count": 13,
   "metadata": {},
   "outputs": [],
   "source": [
    "# Clean Features\n",
    "\n",
    "# Due to column 'job_experience_num_months' has too many nan value, we just drop the column for convenience.\n",
    "\n",
    "total_feature_name = ['case_received_date', 'decision_date', 'employer_name',\n",
    "                'employer_num_employees', 'employer_yr_established', 'job_education',\n",
    "                'job_state', 'job_foreign_lang_req', 'job_level', 'employee_citizenship']\n",
    "\n",
    "\n",
    "# Impute columns with median\n",
    "def impute_by_mean(df):\n",
    "    df.fillna(df.median(), inplace=True)\n",
    "    \n",
    "impute_by_mean(data)"
   ]
  },
  {
   "cell_type": "markdown",
   "metadata": {},
   "source": [
    "## Feature Engineering\n",
    "\n",
    "1. Date Feature. There're 2 date columns `decision_date` & `case_received_date`. Here we calculation the duarition for both dates and considered the duarition as one predictive feature.\n",
    "2. Catgorical Feature. There're multiple categorical features. Some simple categorical columns `job_education`, `job_foreign_lang_req` would be used as label encoding. For other categorical columns `employer_name`, `job_state`, `employee_citizenship` would be processed by target mean encoding, since the class number are large."
   ]
  },
  {
   "cell_type": "code",
   "execution_count": 14,
   "metadata": {},
   "outputs": [],
   "source": [
    "# Case Duration Feature\n",
    "def get_duration(df):\n",
    "    duration = pd.to_datetime(df['decision_date']) - pd.to_datetime(df['case_received_date'])\n",
    "    return duration.apply(lambda x: x.days)"
   ]
  },
  {
   "cell_type": "code",
   "execution_count": 15,
   "metadata": {},
   "outputs": [],
   "source": [
    "# Target Mean Encoding\n",
    "def mean_wage_encoding(df, column):\n",
    "    \n",
    "    encoding_dict = df.groupby(column)['wage_offer'].mean()\n",
    "    default_mean = df['wage_offer'].mean()\n",
    "    \n",
    "    return df[column].apply(lambda x: encoding_dict.get(x, default_mean))"
   ]
  },
  {
   "cell_type": "code",
   "execution_count": 16,
   "metadata": {},
   "outputs": [],
   "source": [
    "from sklearn import preprocessing\n",
    "le = preprocessing.LabelEncoder()\n",
    "\n",
    "def feature_tranform(df):\n",
    "    df['duration'] = get_duration(df)\n",
    "    df['employer_mean_wage'] = mean_wage_encoding(df, 'employer_name')\n",
    "    df['state_mean_wage'] = mean_wage_encoding(df, 'job_state')\n",
    "    df['citizen_mean_wage'] = mean_wage_encoding(df, 'employee_citizenship')\n",
    "    \n",
    "    df['job_education'] = le.fit_transform(df['job_education'])\n",
    "    df['job_foreign_lang_req'] = le.fit_transform(df['job_foreign_lang_req'])\n",
    "    return df\n",
    "\n",
    "DATA = feature_tranform(data)"
   ]
  },
  {
   "cell_type": "markdown",
   "metadata": {},
   "source": [
    "## Modeling"
   ]
  },
  {
   "cell_type": "code",
   "execution_count": 17,
   "metadata": {},
   "outputs": [
    {
     "data": {
      "text/plain": [
       "{'employer_num_employees': 0.02983592484680458,\n",
       " 'employer_yr_established': 0.019606441875842644,\n",
       " 'job_education': 0.009773653500957045,\n",
       " 'job_experience_num_months': 0.010743082822701719,\n",
       " 'job_foreign_lang_req': 0.0006214114232062333,\n",
       " 'job_level': 0.026386892610025133,\n",
       " 'duration': 0.032031890664900815,\n",
       " 'employer_mean_wage': 0.8317521990929074,\n",
       " 'state_mean_wage': 0.017870984735958686,\n",
       " 'citizen_mean_wage': 0.02137751842669555}"
      ]
     },
     "execution_count": 17,
     "metadata": {},
     "output_type": "execute_result"
    }
   ],
   "source": [
    "from sklearn.ensemble import RandomForestRegressor\n",
    "from sklearn.model_selection import train_test_split\n",
    "\n",
    "feature_name = ['employer_num_employees', 'employer_yr_established', 'job_education', 'job_experience_num_months', \n",
    "         'job_foreign_lang_req', 'job_level', 'duration', 'employer_mean_wage', 'state_mean_wage', 'citizen_mean_wage']\n",
    "\n",
    "X = DATA[feature_name]\n",
    "y = DATA['wage_offer']\n",
    "\n",
    "X_train, X_test, y_train, y_test = train_test_split(X, y, test_size=0.33, random_state=0)\n",
    "reg = RandomForestRegressor(random_state=0)\n",
    "reg.fit(X_train, y_train)\n",
    "\n",
    "dict(zip(feature_name, reg.feature_importances_))"
   ]
  },
  {
   "cell_type": "code",
   "execution_count": 18,
   "metadata": {},
   "outputs": [
    {
     "data": {
      "text/plain": [
       "RandomForestRegressor(bootstrap=True, ccp_alpha=0.0, criterion='mse',\n",
       "                      max_depth=None, max_features='auto', max_leaf_nodes=None,\n",
       "                      max_samples=None, min_impurity_decrease=0.0,\n",
       "                      min_impurity_split=None, min_samples_leaf=1,\n",
       "                      min_samples_split=2, min_weight_fraction_leaf=0.0,\n",
       "                      n_estimators=100, n_jobs=None, oob_score=False,\n",
       "                      random_state=0, verbose=0, warm_start=False)"
      ]
     },
     "execution_count": 18,
     "metadata": {},
     "output_type": "execute_result"
    }
   ],
   "source": [
    "# Train with best 5 features\n",
    "\n",
    "best_feature = ['employer_mean_wage',  'duration', 'employer_num_employees', 'job_level', 'citizen_mean_wage']\n",
    "\n",
    "X = DATA[best_feature]\n",
    "y = DATA['wage_offer']\n",
    "\n",
    "X_train, X_test, y_train, y_test = train_test_split(X, y, test_size=0.33, random_state=0)\n",
    "reg = RandomForestRegressor(random_state=0)\n",
    "reg.fit(X_train, y_train)"
   ]
  },
  {
   "cell_type": "code",
   "execution_count": 19,
   "metadata": {},
   "outputs": [],
   "source": [
    "# Predict and get residual\n",
    "\n",
    "y_pred = reg.predict(X_test)\n",
    "residual = (y_pred - y_test)"
   ]
  },
  {
   "cell_type": "code",
   "execution_count": 20,
   "metadata": {},
   "outputs": [
    {
     "data": {
      "image/png": "[encoded data removed]",
      "text/plain": [
       "<Figure size 432x288 with 1 Axes>"
      ]
     },
     "metadata": {
      "needs_background": "light"
     },
     "output_type": "display_data"
    }
   ],
   "source": [
    "# Plot hist for residual\n",
    "import matplotlib.pyplot as plt\n",
    "\n",
    "plot = plt.hist(np.log(residual + 1), bins=100)"
   ]
  },
  {
   "cell_type": "code",
   "execution_count": null,
   "metadata": {},
   "outputs": [],
   "source": []
  }
 ],
 "metadata": {
  "kernelspec": {
   "display_name": "Python 3",
   "language": "python",
   "name": "python3"
  },
  "language_info": {
   "codemirror_mode": {
    "name": "ipython",
    "version": 3
   },
   "file_extension": ".py",
   "mimetype": "text/x-python",
   "name": "python",
   "nbconvert_exporter": "python",
   "pygments_lexer": "ipython3",
   "version": "3.8.2"
  }
 },
 "nbformat": 4,
 "nbformat_minor": 4
}
