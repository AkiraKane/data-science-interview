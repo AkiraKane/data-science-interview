{
 "cells": [
  {
   "cell_type": "code",
   "execution_count": 46,
   "metadata": {
    "collapsed": true
   },
   "outputs": [],
   "source": [
    "import pandas as pd\n",
    "import numpy as np\n",
    "from sklearn.linear_model import LinearRegression\n",
    "from sklearn.metrics import mean_squared_error"
   ]
  },
  {
   "cell_type": "markdown",
   "metadata": {},
   "source": [
    "# Q1"
   ]
  },
  {
   "cell_type": "code",
   "execution_count": null,
   "metadata": {
    "collapsed": true
   },
   "outputs": [],
   "source": [
    "def linear_interpolate(n, x_knots, y_knots, x_input):\n",
    "    # Write your code here\n",
    "    xy, lo, hi = sorted([x, y] for x, y in zip(x_knots, y_knots)), 0, n - 1\n",
    "    while lo < hi:\n",
    "        mi = (lo + hi) // 2\n",
    "        if x_input <= xy[mi][0]:\n",
    "            hi = mi\n",
    "        else:\n",
    "            lo = mi + 1\n",
    "    if not hi:\n",
    "        return xy[0][1] + (xy[1][1] - xy[0][1]) / (xy[1][0] - xy[0][0]) * (x_input - xy[0][0])\n",
    "    if hi == n - 1 and xy[-1][0] < x_input:\n",
    "        return xy[-1][1] + (xy[-1][1] - xy[-2][1]) / (xy[-1][0] - xy[-2][0]) * (x_input - xy[-1][0])\n",
    "    return xy[hi][1] + (xy[hi][1] - xy[hi - 1][1]) / (xy[hi][0] - xy[hi - 1][0]) * (x_input - xy[hi][0])"
   ]
  },
  {
   "cell_type": "code",
   "execution_count": 80,
   "metadata": {
    "collapsed": true
   },
   "outputs": [],
   "source": [
    "n = 5\n",
    "x_knots = [-2.0, -1.0, 0.0, 1.0, 2.0]\n",
    "y_knots = [0.0, 10.0, 15.0, 0.0, 5.0]\n",
    "x_input = -0.3"
   ]
  },
  {
   "cell_type": "code",
   "execution_count": 81,
   "metadata": {},
   "outputs": [
    {
     "data": {
      "text/plain": [
       "[[-2.0, 0.0], [-1.0, 10.0], [0.0, 15.0], [1.0, 0.0], [2.0, 5.0]]"
      ]
     },
     "execution_count": 81,
     "metadata": {},
     "output_type": "execute_result"
    }
   ],
   "source": [
    "sorted([x, y] for x, y in zip(x_knots, y_knots))"
   ]
  },
  {
   "cell_type": "markdown",
   "metadata": {},
   "source": [
    "# Q2"
   ]
  },
  {
   "cell_type": "code",
   "execution_count": 5,
   "metadata": {},
   "outputs": [
    {
     "data": {
      "text/html": [
       "<div>\n",
       "<style scoped>\n",
       "    .dataframe tbody tr th:only-of-type {\n",
       "        vertical-align: middle;\n",
       "    }\n",
       "\n",
       "    .dataframe tbody tr th {\n",
       "        vertical-align: top;\n",
       "    }\n",
       "\n",
       "    .dataframe thead th {\n",
       "        text-align: right;\n",
       "    }\n",
       "</style>\n",
       "<table border=\"1\" class=\"dataframe\">\n",
       "  <thead>\n",
       "    <tr style=\"text-align: right;\">\n",
       "      <th></th>\n",
       "      <th>Town1</th>\n",
       "      <th>Town2</th>\n",
       "      <th>Town3</th>\n",
       "      <th>Town4</th>\n",
       "      <th>Town5</th>\n",
       "      <th>NYC</th>\n",
       "    </tr>\n",
       "  </thead>\n",
       "  <tbody>\n",
       "    <tr>\n",
       "      <th>0</th>\n",
       "      <td>70.0</td>\n",
       "      <td>95.0</td>\n",
       "      <td>34.0</td>\n",
       "      <td>46.0</td>\n",
       "      <td>10.0</td>\n",
       "      <td>50.0</td>\n",
       "    </tr>\n",
       "    <tr>\n",
       "      <th>1</th>\n",
       "      <td>65.0</td>\n",
       "      <td>88.0</td>\n",
       "      <td>45.0</td>\n",
       "      <td>24.0</td>\n",
       "      <td>32.0</td>\n",
       "      <td>51.0</td>\n",
       "    </tr>\n",
       "    <tr>\n",
       "      <th>2</th>\n",
       "      <td>87.0</td>\n",
       "      <td>91.0</td>\n",
       "      <td>23.0</td>\n",
       "      <td>35.0</td>\n",
       "      <td>10.0</td>\n",
       "      <td>78.0</td>\n",
       "    </tr>\n",
       "    <tr>\n",
       "      <th>3</th>\n",
       "      <td>67.0</td>\n",
       "      <td>101.0</td>\n",
       "      <td>34.0</td>\n",
       "      <td>55.0</td>\n",
       "      <td>15.0</td>\n",
       "      <td>88.0</td>\n",
       "    </tr>\n",
       "  </tbody>\n",
       "</table>\n",
       "</div>"
      ],
      "text/plain": [
       "   Town1  Town2  Town3  Town4  Town5   NYC\n",
       "0   70.0   95.0   34.0   46.0   10.0  50.0\n",
       "1   65.0   88.0   45.0   24.0   32.0  51.0\n",
       "2   87.0   91.0   23.0   35.0   10.0  78.0\n",
       "3   67.0  101.0   34.0   55.0   15.0  88.0"
      ]
     },
     "execution_count": 5,
     "metadata": {},
     "output_type": "execute_result"
    }
   ],
   "source": [
    "df = pd.DataFrame([[70,95,34,46,10,50],\n",
    "[65,88,45,24,32,51],\n",
    "[87,91,23,35,10,78],\n",
    "[67,101,34,55,15,88]], columns=['Town1','Town2','Town3','Town4','Town5','NYC']).astype(float)\n",
    "df"
   ]
  },
  {
   "cell_type": "code",
   "execution_count": 78,
   "metadata": {},
   "outputs": [],
   "source": [
    "# Q1\n",
    "q1_answer = df.std().idxmax()\n",
    "\n",
    "# Q2\n",
    "q2_answer = str(int(round(df[(df.Town2 >= 90) & (df.Town2 <= 100)].NYC.median())))\n",
    "\n",
    "# Q3\n",
    "model = LinearRegression()\n",
    "mse = {}\n",
    "abs_sum = 0\n",
    "town_list = [x for x in df.columns.tolist() if x != 'NYC']\n",
    "for town in town_list:\n",
    "    model.fit(df[town].values.reshape(-1, 1), df['NYC'].values)\n",
    "    mse[town] = mean_squared_error(df['NYC'].values, model.predict(df[town].values.reshape(-1, 1)))\n",
    "    abs_sum += abs(model.coef_[0])\n",
    "\n",
    "q3_answer = str(int(round(abs_sum)))\n",
    "\n",
    "# Q4\n",
    "q4_answer = min(mse, key=mse.get)\n",
    "\n",
    "# Q5\n",
    "combination = []\n",
    "for i in range(len(town_list)):\n",
    "    for j in town_list[i + 1:]:\n",
    "        combination.append([town_list[i], j])\n",
    "\n",
    "new_mse = {}\n",
    "for i in range(len(combination)):\n",
    "    model.fit(df[combination[i]].values, df['NYC'].values)\n",
    "    new_mse[i] = mean_squared_error(df['NYC'].values, model.predict(df[combination[i]].values))\n",
    "\n",
    "q5_answer = combination[min(new_mse, key=new_mse.get)]\n",
    "q5_answer = ','.join(q5_answer)\n",
    "\n",
    "# Final Return\n",
    "answer = [q1_answer, q2_answer, q3_answer, q4_answer, q5_answer]\n",
    "# return ','.join(answer)"
   ]
  },
  {
   "cell_type": "code",
   "execution_count": 79,
   "metadata": {},
   "outputs": [
    {
     "data": {
      "text/plain": [
       "'NYC,64,5,Town2,Town1,Town2'"
      ]
     },
     "execution_count": 79,
     "metadata": {},
     "output_type": "execute_result"
    }
   ],
   "source": [
    "','.join(answer)"
   ]
  },
  {
   "cell_type": "markdown",
   "metadata": {},
   "source": [
    "# Q3"
   ]
  },
  {
   "cell_type": "code",
   "execution_count": 96,
   "metadata": {
    "collapsed": true
   },
   "outputs": [],
   "source": [
    "%matplotlib inline"
   ]
  },
  {
   "cell_type": "code",
   "execution_count": 87,
   "metadata": {},
   "outputs": [],
   "source": [
    "df = pd.DataFrame([[34,32,53,5,10,29,40],\n",
    "[86,91,24,10,12,50,45],\n",
    "[56,78,90,23,23,45,23],\n",
    "[23,92,45,44,55,67,34],\n",
    "[12,99,23,34,64,56,35],\n",
    "[22,102,11,23,45,65,43]], columns=['Town1','Town2','Town3','Town4','Town5','Town6','NYC'\n",
    "])\n",
    "\n",
    "town_list = [x for x in df.columns.tolist() if x != 'NYC']\n"
   ]
  },
  {
   "cell_type": "code",
   "execution_count": 92,
   "metadata": {},
   "outputs": [],
   "source": [
    "from sklearn import linear_model\n",
    "import seaborn as sns\n",
    "\n",
    "clf = linear_model.Lasso(alpha=0.1)"
   ]
  },
  {
   "cell_type": "code",
   "execution_count": 93,
   "metadata": {},
   "outputs": [
    {
     "data": {
      "text/plain": [
       "Lasso(alpha=0.1, copy_X=True, fit_intercept=True, max_iter=1000,\n",
       "      normalize=False, positive=False, precompute=False, random_state=None,\n",
       "      selection='cyclic', tol=0.0001, warm_start=False)"
      ]
     },
     "execution_count": 93,
     "metadata": {},
     "output_type": "execute_result"
    }
   ],
   "source": [
    "clf.fit(df[town_list].values, df.NYC.values)"
   ]
  },
  {
   "cell_type": "code",
   "execution_count": 99,
   "metadata": {},
   "outputs": [
    {
     "data": {
      "text/plain": [
       "array([ 0.05856669, -0.20044577, -0.30883531,  0.        , -0.11042872,\n",
       "        0.24004036])"
      ]
     },
     "execution_count": 99,
     "metadata": {},
     "output_type": "execute_result"
    }
   ],
   "source": [
    "clf.coef_"
   ]
  },
  {
   "cell_type": "code",
   "execution_count": 97,
   "metadata": {},
   "outputs": [
    {
     "data": {
      "image/png": "[encoded data removed]",
      "text/plain": [
       "<matplotlib.figure.Figure at 0x228a20a9eb8>"
      ]
     },
     "metadata": {},
     "output_type": "display_data"
    }
   ],
   "source": [
    "ax = sns.heatmap(df[town_list])"
   ]
  },
  {
   "cell_type": "code",
   "execution_count": 90,
   "metadata": {},
   "outputs": [
    {
     "data": {
      "text/html": [
       "<div>\n",
       "<style scoped>\n",
       "    .dataframe tbody tr th:only-of-type {\n",
       "        vertical-align: middle;\n",
       "    }\n",
       "\n",
       "    .dataframe tbody tr th {\n",
       "        vertical-align: top;\n",
       "    }\n",
       "\n",
       "    .dataframe thead th {\n",
       "        text-align: right;\n",
       "    }\n",
       "</style>\n",
       "<table border=\"1\" class=\"dataframe\">\n",
       "  <thead>\n",
       "    <tr style=\"text-align: right;\">\n",
       "      <th></th>\n",
       "      <th>Town1</th>\n",
       "      <th>Town2</th>\n",
       "      <th>Town3</th>\n",
       "      <th>Town4</th>\n",
       "      <th>Town5</th>\n",
       "      <th>Town6</th>\n",
       "    </tr>\n",
       "  </thead>\n",
       "  <tbody>\n",
       "    <tr>\n",
       "      <th>Town1</th>\n",
       "      <td>1.000000</td>\n",
       "      <td>-0.098647</td>\n",
       "      <td>0.230360</td>\n",
       "      <td>-0.576555</td>\n",
       "      <td>-0.768697</td>\n",
       "      <td>-0.343684</td>\n",
       "    </tr>\n",
       "    <tr>\n",
       "      <th>Town2</th>\n",
       "      <td>-0.098647</td>\n",
       "      <td>1.000000</td>\n",
       "      <td>-0.488726</td>\n",
       "      <td>0.624262</td>\n",
       "      <td>0.663908</td>\n",
       "      <td>0.893835</td>\n",
       "    </tr>\n",
       "    <tr>\n",
       "      <th>Town3</th>\n",
       "      <td>0.230360</td>\n",
       "      <td>-0.488726</td>\n",
       "      <td>1.000000</td>\n",
       "      <td>-0.052580</td>\n",
       "      <td>-0.377881</td>\n",
       "      <td>-0.490965</td>\n",
       "    </tr>\n",
       "    <tr>\n",
       "      <th>Town4</th>\n",
       "      <td>-0.576555</td>\n",
       "      <td>0.624262</td>\n",
       "      <td>-0.052580</td>\n",
       "      <td>1.000000</td>\n",
       "      <td>0.891977</td>\n",
       "      <td>0.781086</td>\n",
       "    </tr>\n",
       "    <tr>\n",
       "      <th>Town5</th>\n",
       "      <td>-0.768697</td>\n",
       "      <td>0.663908</td>\n",
       "      <td>-0.377881</td>\n",
       "      <td>0.891977</td>\n",
       "      <td>1.000000</td>\n",
       "      <td>0.773206</td>\n",
       "    </tr>\n",
       "    <tr>\n",
       "      <th>Town6</th>\n",
       "      <td>-0.343684</td>\n",
       "      <td>0.893835</td>\n",
       "      <td>-0.490965</td>\n",
       "      <td>0.781086</td>\n",
       "      <td>0.773206</td>\n",
       "      <td>1.000000</td>\n",
       "    </tr>\n",
       "  </tbody>\n",
       "</table>\n",
       "</div>"
      ],
      "text/plain": [
       "          Town1     Town2     Town3     Town4     Town5     Town6\n",
       "Town1  1.000000 -0.098647  0.230360 -0.576555 -0.768697 -0.343684\n",
       "Town2 -0.098647  1.000000 -0.488726  0.624262  0.663908  0.893835\n",
       "Town3  0.230360 -0.488726  1.000000 -0.052580 -0.377881 -0.490965\n",
       "Town4 -0.576555  0.624262 -0.052580  1.000000  0.891977  0.781086\n",
       "Town5 -0.768697  0.663908 -0.377881  0.891977  1.000000  0.773206\n",
       "Town6 -0.343684  0.893835 -0.490965  0.781086  0.773206  1.000000"
      ]
     },
     "execution_count": 90,
     "metadata": {},
     "output_type": "execute_result"
    }
   ],
   "source": [
    "df[town_list].corr()"
   ]
  }
 ],
 "metadata": {
  "kernelspec": {
   "display_name": "Python 3",
   "language": "python",
   "name": "python3"
  },
  "language_info": {
   "codemirror_mode": {
    "name": "ipython",
    "version": 3
   },
   "file_extension": ".py",
   "mimetype": "text/x-python",
   "name": "python",
   "nbconvert_exporter": "python",
   "pygments_lexer": "ipython3",
   "version": "3.8.2"
  }
 },
 "nbformat": 4,
 "nbformat_minor": 2
}
